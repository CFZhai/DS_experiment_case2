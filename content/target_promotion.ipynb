{
 "cells": [
  {
   "cell_type": "markdown",
   "metadata": {},
   "source": [
    "# Marketing Analytics -- How Can a Bank Better Target Its Promotions?\n",
    "\n",
    "## Situation\n",
    "Universal Bank (name changed) has been targeting customers with various offers for its mortgage loan products. Historically, these campaigns have had single-digit response rates (8-10%). A new Stern MSBA alumnus, Jasmin Ali, has been appointed as the CMO, and she has challenged the marketing team to improve these results. \n",
    "\n",
    "When told by an analyst that their campaigns “cannot do any better as the competition is in the 5-6% response rate,” Jasmin asked a simple yet insightful question:  \n",
    "**“Have we tried to learn anything from our past campaigns to target better?”**\n",
    "\n",
    "## Complication\n",
    "Direct marketing analytics faces several challenges, particularly low response rates to customer promotions. For instance, if only 10% of past customers responded to a campaign, can actionable insights still be derived?  \n",
    "\n",
    "### Key Question\n",
    "Given a 1,000-person target list, who are the top 50 individuals the marketing team should invite to a special cocktail event? This event targets high-value mortgage customers with a lifetime value in the hundreds of thousands of dollars.\n",
    "\n",
    "## Solution Approach\n",
    "To address this problem, we will:\n",
    "1. Apply **binary classification models** (k-nearest neighbors, decision trees, and logistic regression) to the new dataset.\n",
    "2. Identify the best-performing model and use it to score the target list.\n",
    "3. Rank-order the list by likelihood of response to select the top 50 individuals.\n",
    "\n",
    "### Challenges\n",
    "- **Imbalanced/skewed outcome class distribution:** This is common in binary classification problems such as loan defaults, corporate bankruptcies, or ad click-through rates (rare events).\n",
    "- Evaluating model performance will require metrics beyond simple accuracy, including:\n",
    "  - Precision\n",
    "  - Recall\n",
    "  - F-Measure\n",
    "  - Kappa statistic\n",
    "\n",
    "## Technical Details\n",
    "- **Deck:** Predictive modeling continued.\n",
    "- **Dataset:** [Dataset1 (XLS file)]\n",
    "- **python Code:** \n",
    "\n",
    "### Key Technical Concepts\n",
    "- Predicting probabilities\n",
    "- Setting custom thresholds\n",
    "- Hyper-parameter tuning\n",
    "- Scoring new data\n",
    "- Performing cost-benefit analysis for profit maximization\n",
    "\n",
    "## Discussion Questions\n",
    "1. **Model Explainability:**  \n",
    "   - Should we care about explainability for this problem?  \n",
    "   - How should we balance model accuracy with explainability?\n",
    "\n",
    "2. **Machine Learning vs Baseline:**  \n",
    "   - How much better can machine learning be in selecting 50 individuals compared to the baseline response rate?\n",
    "\n",
    "3. **Classification Types and Cost-Benefit Analysis:**  \n",
    "   - Are all types of classifications equally beneficial?  \n",
    "   - Is a true positive as valuable as a true negative?  \n",
    "   - Are false negatives as costly as false positives?  \n",
    "   - How can we use costs, benefits, and expected value to choose the best model?\n",
    "\n",
    "4. **Model Deployment:**  \n",
    "   - What data should be used during deployment?\n",
    "\n",
    "5. **Model Selection:**  \n",
    "   - Which model (k-nearest neighbors, decision trees, logistic regression) should be used for the most fine-grained probability predictions?\n",
    "\n",
    "## References\n",
    "1. Shmueli et al., *Business Analytics using R*, Wiley, 2020."
   ]
  },
  {
   "cell_type": "code",
   "execution_count": null,
   "metadata": {
    "vscode": {
     "languageId": "plaintext"
    }
   },
   "outputs": [],
   "source": []
  }
 ],
 "metadata": {
  "language_info": {
   "name": "python"
  }
 },
 "nbformat": 4,
 "nbformat_minor": 2
}
